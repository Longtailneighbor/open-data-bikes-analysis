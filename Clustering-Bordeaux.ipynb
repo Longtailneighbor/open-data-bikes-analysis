{
 "cells": [
  {
   "cell_type": "markdown",
   "metadata": {},
   "source": [
    "# Bicycle Sharing Stations Bordeaux"
   ]
  },
  {
   "cell_type": "markdown",
   "metadata": {},
   "source": [
    "Analyze the daily profile for each station from 2017-07-09 to 2017-09-26."
   ]
  },
  {
   "cell_type": "markdown",
   "metadata": {},
   "source": [
    "## Some Imports"
   ]
  },
  {
   "cell_type": "code",
   "execution_count": 1,
   "metadata": {
    "collapsed": true
   },
   "outputs": [],
   "source": [
    "%matplotlib inline"
   ]
  },
  {
   "cell_type": "code",
   "execution_count": 2,
   "metadata": {
    "collapsed": true
   },
   "outputs": [],
   "source": [
    "import numpy as np\n",
    "import pandas as pd"
   ]
  },
  {
   "cell_type": "code",
   "execution_count": 3,
   "metadata": {
    "collapsed": true
   },
   "outputs": [],
   "source": [
    "from sklearn.cluster import KMeans"
   ]
  },
  {
   "cell_type": "code",
   "execution_count": 4,
   "metadata": {
    "collapsed": true
   },
   "outputs": [],
   "source": [
    "from matplotlib import pyplot as plt\n",
    "import seaborn as sns\n",
    "sns.set_context('notebook')"
   ]
  },
  {
   "cell_type": "markdown",
   "metadata": {},
   "source": [
    "## Watermark for the versions of used libs"
   ]
  },
  {
   "cell_type": "code",
   "execution_count": 7,
   "metadata": {
    "collapsed": true
   },
   "outputs": [
    {
     "name": "stdout",
     "output_type": "stream",
     "text": [
      "The watermark extension is already loaded. To reload it, use:\n",
      "  %reload_ext watermark\n"
     ]
    }
   ],
   "source": [
    "%load_ext watermark"
   ]
  },
  {
   "cell_type": "code",
   "execution_count": 24,
   "metadata": {},
   "outputs": [
    {
     "name": "stdout",
     "output_type": "stream",
     "text": [
      "2017-09-28 \n",
      "\n",
      "CPython 3.5.4\n",
      "IPython 6.2.0\n",
      "\n",
      "numpy 1.12.1\n",
      "pandas 0.20.3\n",
      "sklearn 0.19.0\n",
      "matplotlib 2.0.2\n",
      "seaborn 0.8.1\n",
      "\n",
      "compiler   : GCC 4.8.2 20140120 (Red Hat 4.8.2-15)\n",
      "system     : Linux\n",
      "release    : 4.12.0-1-amd64\n",
      "machine    : x86_64\n",
      "processor  : \n",
      "CPU cores  : 4\n",
      "interpreter: 64bit\n",
      "Git hash   : 5187a150bc552890fda597e797eeac863c0fa0b5\n",
      "watermark 1.5.0\n"
     ]
    }
   ],
   "source": [
    "%watermark -d -v -p numpy,pandas,sklearn,matplotlib,seaborn -g -m -w"
   ]
  },
  {
   "cell_type": "markdown",
   "metadata": {},
   "source": [
    "## Load Data"
   ]
  },
  {
   "cell_type": "code",
   "execution_count": 10,
   "metadata": {
    "collapsed": true
   },
   "outputs": [],
   "source": [
    "# Timeseries data\n",
    "DATA = \"data/bordeaux.csv\""
   ]
  },
  {
   "cell_type": "code",
   "execution_count": 11,
   "metadata": {
    "collapsed": true
   },
   "outputs": [],
   "source": [
    "raw = pd.read_csv(DATA, parse_dates=['ts'])"
   ]
  },
  {
   "cell_type": "code",
   "execution_count": 12,
   "metadata": {},
   "outputs": [
    {
     "data": {
      "text/html": [
       "<div>\n",
       "<style>\n",
       "    .dataframe thead tr:only-child th {\n",
       "        text-align: right;\n",
       "    }\n",
       "\n",
       "    .dataframe thead th {\n",
       "        text-align: left;\n",
       "    }\n",
       "\n",
       "    .dataframe tbody tr th {\n",
       "        vertical-align: top;\n",
       "    }\n",
       "</style>\n",
       "<table border=\"1\" class=\"dataframe\">\n",
       "  <thead>\n",
       "    <tr style=\"text-align: right;\">\n",
       "      <th></th>\n",
       "      <th>gid</th>\n",
       "      <th>ident</th>\n",
       "      <th>type</th>\n",
       "      <th>name</th>\n",
       "      <th>state</th>\n",
       "      <th>available_stand</th>\n",
       "      <th>available_bike</th>\n",
       "      <th>ts</th>\n",
       "    </tr>\n",
       "  </thead>\n",
       "  <tbody>\n",
       "    <tr>\n",
       "      <th>0</th>\n",
       "      <td>83</td>\n",
       "      <td>1</td>\n",
       "      <td>VLS</td>\n",
       "      <td>Meriadeck</td>\n",
       "      <td>CONNECTEE</td>\n",
       "      <td>18</td>\n",
       "      <td>2</td>\n",
       "      <td>2017-07-09 00:03:04</td>\n",
       "    </tr>\n",
       "    <tr>\n",
       "      <th>1</th>\n",
       "      <td>84</td>\n",
       "      <td>2</td>\n",
       "      <td>VLS</td>\n",
       "      <td>St Bruno</td>\n",
       "      <td>CONNECTEE</td>\n",
       "      <td>7</td>\n",
       "      <td>13</td>\n",
       "      <td>2017-07-09 00:03:04</td>\n",
       "    </tr>\n",
       "    <tr>\n",
       "      <th>2</th>\n",
       "      <td>41</td>\n",
       "      <td>3</td>\n",
       "      <td>VLS</td>\n",
       "      <td>Place Tartas</td>\n",
       "      <td>CONNECTEE</td>\n",
       "      <td>17</td>\n",
       "      <td>1</td>\n",
       "      <td>2017-07-09 00:03:04</td>\n",
       "    </tr>\n",
       "    <tr>\n",
       "      <th>3</th>\n",
       "      <td>42</td>\n",
       "      <td>4</td>\n",
       "      <td>VLS</td>\n",
       "      <td>St Seurin</td>\n",
       "      <td>CONNECTEE</td>\n",
       "      <td>18</td>\n",
       "      <td>2</td>\n",
       "      <td>2017-07-09 00:03:04</td>\n",
       "    </tr>\n",
       "    <tr>\n",
       "      <th>4</th>\n",
       "      <td>43</td>\n",
       "      <td>5</td>\n",
       "      <td>VLS</td>\n",
       "      <td>Place Gambetta</td>\n",
       "      <td>CONNECTEE</td>\n",
       "      <td>37</td>\n",
       "      <td>2</td>\n",
       "      <td>2017-07-09 00:03:04</td>\n",
       "    </tr>\n",
       "  </tbody>\n",
       "</table>\n",
       "</div>"
      ],
      "text/plain": [
       "   gid  ident type            name      state  available_stand  \\\n",
       "0   83      1  VLS       Meriadeck  CONNECTEE               18   \n",
       "1   84      2  VLS        St Bruno  CONNECTEE                7   \n",
       "2   41      3  VLS    Place Tartas  CONNECTEE               17   \n",
       "3   42      4  VLS       St Seurin  CONNECTEE               18   \n",
       "4   43      5  VLS  Place Gambetta  CONNECTEE               37   \n",
       "\n",
       "   available_bike                  ts  \n",
       "0               2 2017-07-09 00:03:04  \n",
       "1              13 2017-07-09 00:03:04  \n",
       "2               1 2017-07-09 00:03:04  \n",
       "3               2 2017-07-09 00:03:04  \n",
       "4               2 2017-07-09 00:03:04  "
      ]
     },
     "execution_count": 12,
     "metadata": {},
     "output_type": "execute_result"
    }
   ],
   "source": [
    "raw.head()"
   ]
  },
  {
   "cell_type": "markdown",
   "metadata": {},
   "source": [
    "## Some Cleaning"
   ]
  },
  {
   "cell_type": "code",
   "execution_count": 22,
   "metadata": {},
   "outputs": [
    {
     "name": "stdout",
     "output_type": "stream",
     "text": [
      "(3761880, 8)\n"
     ]
    }
   ],
   "source": [
    "print(raw.shape)"
   ]
  },
  {
   "cell_type": "markdown",
   "metadata": {},
   "source": [
    "* Get only `CONNECTEE` station (i.e. not closed)\n",
    "* Rename some columns\n",
    "* Drop duplicates"
   ]
  },
  {
   "cell_type": "code",
   "execution_count": 25,
   "metadata": {
    "collapsed": true
   },
   "outputs": [],
   "source": [
    "data = (raw.copy()\n",
    "        .query('state == \"CONNECTEE\"')\n",
    "        .drop(['gid', 'available_stand', 'type', 'state'], axis=1)\n",
    "        .rename_axis({\"available_bike\": \"bikes\", \"ident\": \"station\"}, axis=1)\n",
    "        .drop_duplicates()\n",
    "        .sort_values([\"station\", \"ts\"]))"
   ]
  },
  {
   "cell_type": "code",
   "execution_count": 26,
   "metadata": {},
   "outputs": [
    {
     "name": "stdout",
     "output_type": "stream",
     "text": [
      "(3607233, 4)\n"
     ]
    },
    {
     "data": {
      "text/html": [
       "<div>\n",
       "<style>\n",
       "    .dataframe thead tr:only-child th {\n",
       "        text-align: right;\n",
       "    }\n",
       "\n",
       "    .dataframe thead th {\n",
       "        text-align: left;\n",
       "    }\n",
       "\n",
       "    .dataframe tbody tr th {\n",
       "        vertical-align: top;\n",
       "    }\n",
       "</style>\n",
       "<table border=\"1\" class=\"dataframe\">\n",
       "  <thead>\n",
       "    <tr style=\"text-align: right;\">\n",
       "      <th></th>\n",
       "      <th>station</th>\n",
       "      <th>name</th>\n",
       "      <th>bikes</th>\n",
       "      <th>ts</th>\n",
       "    </tr>\n",
       "  </thead>\n",
       "  <tbody>\n",
       "    <tr>\n",
       "      <th>0</th>\n",
       "      <td>1</td>\n",
       "      <td>Meriadeck</td>\n",
       "      <td>2</td>\n",
       "      <td>2017-07-09 00:03:04</td>\n",
       "    </tr>\n",
       "    <tr>\n",
       "      <th>174</th>\n",
       "      <td>1</td>\n",
       "      <td>Meriadeck</td>\n",
       "      <td>2</td>\n",
       "      <td>2017-07-09 00:04:04</td>\n",
       "    </tr>\n",
       "    <tr>\n",
       "      <th>348</th>\n",
       "      <td>1</td>\n",
       "      <td>Meriadeck</td>\n",
       "      <td>2</td>\n",
       "      <td>2017-07-09 00:09:04</td>\n",
       "    </tr>\n",
       "    <tr>\n",
       "      <th>522</th>\n",
       "      <td>1</td>\n",
       "      <td>Meriadeck</td>\n",
       "      <td>2</td>\n",
       "      <td>2017-07-09 00:14:03</td>\n",
       "    </tr>\n",
       "    <tr>\n",
       "      <th>696</th>\n",
       "      <td>1</td>\n",
       "      <td>Meriadeck</td>\n",
       "      <td>2</td>\n",
       "      <td>2017-07-09 00:19:04</td>\n",
       "    </tr>\n",
       "  </tbody>\n",
       "</table>\n",
       "</div>"
      ],
      "text/plain": [
       "     station       name  bikes                  ts\n",
       "0          1  Meriadeck      2 2017-07-09 00:03:04\n",
       "174        1  Meriadeck      2 2017-07-09 00:04:04\n",
       "348        1  Meriadeck      2 2017-07-09 00:09:04\n",
       "522        1  Meriadeck      2 2017-07-09 00:14:03\n",
       "696        1  Meriadeck      2 2017-07-09 00:19:04"
      ]
     },
     "execution_count": 26,
     "metadata": {},
     "output_type": "execute_result"
    }
   ],
   "source": [
    "print(data.shape)\n",
    "data.head()"
   ]
  },
  {
   "cell_type": "markdown",
   "metadata": {},
   "source": [
    "## Timeseries resampling"
   ]
  },
  {
   "cell_type": "markdown",
   "metadata": {},
   "source": [
    "Get data every 5 minutes."
   ]
  },
  {
   "cell_type": "code",
   "execution_count": 27,
   "metadata": {
    "collapsed": true
   },
   "outputs": [],
   "source": [
    "df = (data.set_index(\"ts\")\n",
    "      .groupby(\"station\")[\"bikes\"]\n",
    "      .resample(\"5T\")\n",
    "      .mean()\n",
    "      .bfill()\n",
    "      .unstack(0))"
   ]
  },
  {
   "cell_type": "code",
   "execution_count": 28,
   "metadata": {},
   "outputs": [
    {
     "name": "stdout",
     "output_type": "stream",
     "text": [
      "(22932, 171)\n"
     ]
    },
    {
     "data": {
      "text/html": [
       "<div>\n",
       "<style>\n",
       "    .dataframe thead tr:only-child th {\n",
       "        text-align: right;\n",
       "    }\n",
       "\n",
       "    .dataframe thead th {\n",
       "        text-align: left;\n",
       "    }\n",
       "\n",
       "    .dataframe tbody tr th {\n",
       "        vertical-align: top;\n",
       "    }\n",
       "</style>\n",
       "<table border=\"1\" class=\"dataframe\">\n",
       "  <thead>\n",
       "    <tr style=\"text-align: right;\">\n",
       "      <th>station</th>\n",
       "      <th>1</th>\n",
       "      <th>2</th>\n",
       "      <th>3</th>\n",
       "      <th>4</th>\n",
       "      <th>5</th>\n",
       "      <th>6</th>\n",
       "      <th>7</th>\n",
       "      <th>8</th>\n",
       "      <th>9</th>\n",
       "      <th>10</th>\n",
       "      <th>...</th>\n",
       "      <th>165</th>\n",
       "      <th>166</th>\n",
       "      <th>167</th>\n",
       "      <th>168</th>\n",
       "      <th>169</th>\n",
       "      <th>170</th>\n",
       "      <th>171</th>\n",
       "      <th>172</th>\n",
       "      <th>173</th>\n",
       "      <th>174</th>\n",
       "    </tr>\n",
       "    <tr>\n",
       "      <th>ts</th>\n",
       "      <th></th>\n",
       "      <th></th>\n",
       "      <th></th>\n",
       "      <th></th>\n",
       "      <th></th>\n",
       "      <th></th>\n",
       "      <th></th>\n",
       "      <th></th>\n",
       "      <th></th>\n",
       "      <th></th>\n",
       "      <th></th>\n",
       "      <th></th>\n",
       "      <th></th>\n",
       "      <th></th>\n",
       "      <th></th>\n",
       "      <th></th>\n",
       "      <th></th>\n",
       "      <th></th>\n",
       "      <th></th>\n",
       "      <th></th>\n",
       "      <th></th>\n",
       "    </tr>\n",
       "  </thead>\n",
       "  <tbody>\n",
       "    <tr>\n",
       "      <th>2017-07-09 00:00:00</th>\n",
       "      <td>2.0</td>\n",
       "      <td>13.0</td>\n",
       "      <td>1.0</td>\n",
       "      <td>2.0</td>\n",
       "      <td>3.0</td>\n",
       "      <td>2.0</td>\n",
       "      <td>3.0</td>\n",
       "      <td>12.0</td>\n",
       "      <td>2.5</td>\n",
       "      <td>6.0</td>\n",
       "      <td>...</td>\n",
       "      <td>7.0</td>\n",
       "      <td>15.0</td>\n",
       "      <td>14.0</td>\n",
       "      <td>10.0</td>\n",
       "      <td>8.0</td>\n",
       "      <td>16.0</td>\n",
       "      <td>7.0</td>\n",
       "      <td>6.0</td>\n",
       "      <td>19.0</td>\n",
       "      <td>0.0</td>\n",
       "    </tr>\n",
       "    <tr>\n",
       "      <th>2017-07-09 00:05:00</th>\n",
       "      <td>2.0</td>\n",
       "      <td>13.0</td>\n",
       "      <td>1.0</td>\n",
       "      <td>2.0</td>\n",
       "      <td>4.0</td>\n",
       "      <td>2.0</td>\n",
       "      <td>3.0</td>\n",
       "      <td>12.0</td>\n",
       "      <td>3.0</td>\n",
       "      <td>6.0</td>\n",
       "      <td>...</td>\n",
       "      <td>7.0</td>\n",
       "      <td>15.0</td>\n",
       "      <td>14.0</td>\n",
       "      <td>10.0</td>\n",
       "      <td>8.0</td>\n",
       "      <td>16.0</td>\n",
       "      <td>7.0</td>\n",
       "      <td>7.0</td>\n",
       "      <td>19.0</td>\n",
       "      <td>0.0</td>\n",
       "    </tr>\n",
       "    <tr>\n",
       "      <th>2017-07-09 00:10:00</th>\n",
       "      <td>2.0</td>\n",
       "      <td>13.0</td>\n",
       "      <td>0.0</td>\n",
       "      <td>2.0</td>\n",
       "      <td>3.0</td>\n",
       "      <td>2.0</td>\n",
       "      <td>3.0</td>\n",
       "      <td>12.0</td>\n",
       "      <td>3.0</td>\n",
       "      <td>5.0</td>\n",
       "      <td>...</td>\n",
       "      <td>7.0</td>\n",
       "      <td>15.0</td>\n",
       "      <td>14.0</td>\n",
       "      <td>10.0</td>\n",
       "      <td>8.0</td>\n",
       "      <td>16.0</td>\n",
       "      <td>7.0</td>\n",
       "      <td>10.0</td>\n",
       "      <td>19.0</td>\n",
       "      <td>0.0</td>\n",
       "    </tr>\n",
       "    <tr>\n",
       "      <th>2017-07-09 00:15:00</th>\n",
       "      <td>2.0</td>\n",
       "      <td>13.0</td>\n",
       "      <td>0.0</td>\n",
       "      <td>1.0</td>\n",
       "      <td>5.0</td>\n",
       "      <td>2.0</td>\n",
       "      <td>3.0</td>\n",
       "      <td>12.0</td>\n",
       "      <td>3.0</td>\n",
       "      <td>5.0</td>\n",
       "      <td>...</td>\n",
       "      <td>7.0</td>\n",
       "      <td>15.0</td>\n",
       "      <td>14.0</td>\n",
       "      <td>10.0</td>\n",
       "      <td>8.0</td>\n",
       "      <td>16.0</td>\n",
       "      <td>7.0</td>\n",
       "      <td>10.0</td>\n",
       "      <td>19.0</td>\n",
       "      <td>0.0</td>\n",
       "    </tr>\n",
       "    <tr>\n",
       "      <th>2017-07-09 00:20:00</th>\n",
       "      <td>1.0</td>\n",
       "      <td>13.0</td>\n",
       "      <td>0.0</td>\n",
       "      <td>0.0</td>\n",
       "      <td>5.0</td>\n",
       "      <td>2.0</td>\n",
       "      <td>2.0</td>\n",
       "      <td>12.0</td>\n",
       "      <td>3.0</td>\n",
       "      <td>5.0</td>\n",
       "      <td>...</td>\n",
       "      <td>7.0</td>\n",
       "      <td>15.0</td>\n",
       "      <td>14.0</td>\n",
       "      <td>10.0</td>\n",
       "      <td>8.0</td>\n",
       "      <td>16.0</td>\n",
       "      <td>7.0</td>\n",
       "      <td>12.0</td>\n",
       "      <td>19.0</td>\n",
       "      <td>0.0</td>\n",
       "    </tr>\n",
       "  </tbody>\n",
       "</table>\n",
       "<p>5 rows × 171 columns</p>\n",
       "</div>"
      ],
      "text/plain": [
       "station              1     2    3    4    5    6    7     8    9    10  ...   \\\n",
       "ts                                                                      ...    \n",
       "2017-07-09 00:00:00  2.0  13.0  1.0  2.0  3.0  2.0  3.0  12.0  2.5  6.0 ...    \n",
       "2017-07-09 00:05:00  2.0  13.0  1.0  2.0  4.0  2.0  3.0  12.0  3.0  6.0 ...    \n",
       "2017-07-09 00:10:00  2.0  13.0  0.0  2.0  3.0  2.0  3.0  12.0  3.0  5.0 ...    \n",
       "2017-07-09 00:15:00  2.0  13.0  0.0  1.0  5.0  2.0  3.0  12.0  3.0  5.0 ...    \n",
       "2017-07-09 00:20:00  1.0  13.0  0.0  0.0  5.0  2.0  2.0  12.0  3.0  5.0 ...    \n",
       "\n",
       "station              165   166   167   168  169   170  171   172   173  174  \n",
       "ts                                                                           \n",
       "2017-07-09 00:00:00  7.0  15.0  14.0  10.0  8.0  16.0  7.0   6.0  19.0  0.0  \n",
       "2017-07-09 00:05:00  7.0  15.0  14.0  10.0  8.0  16.0  7.0   7.0  19.0  0.0  \n",
       "2017-07-09 00:10:00  7.0  15.0  14.0  10.0  8.0  16.0  7.0  10.0  19.0  0.0  \n",
       "2017-07-09 00:15:00  7.0  15.0  14.0  10.0  8.0  16.0  7.0  10.0  19.0  0.0  \n",
       "2017-07-09 00:20:00  7.0  15.0  14.0  10.0  8.0  16.0  7.0  12.0  19.0  0.0  \n",
       "\n",
       "[5 rows x 171 columns]"
      ]
     },
     "execution_count": 28,
     "metadata": {},
     "output_type": "execute_result"
    }
   ],
   "source": [
    "print(df.shape)\n",
    "df.head()"
   ]
  },
  {
   "cell_type": "markdown",
   "metadata": {},
   "source": [
    "## Get rid of saturday and sunday"
   ]
  },
  {
   "cell_type": "code",
   "execution_count": 29,
   "metadata": {
    "collapsed": true
   },
   "outputs": [],
   "source": [
    "weekday = df.index.weekday"
   ]
  },
  {
   "cell_type": "code",
   "execution_count": 30,
   "metadata": {
    "collapsed": true
   },
   "outputs": [],
   "source": [
    "mask = weekday < 5"
   ]
  },
  {
   "cell_type": "code",
   "execution_count": 31,
   "metadata": {},
   "outputs": [
    {
     "data": {
      "text/plain": [
       "16308"
      ]
     },
     "execution_count": 31,
     "metadata": {},
     "output_type": "execute_result"
    }
   ],
   "source": [
    "mask.sum()"
   ]
  },
  {
   "cell_type": "code",
   "execution_count": 32,
   "metadata": {
    "collapsed": true
   },
   "outputs": [],
   "source": [
    "df = df[mask]"
   ]
  },
  {
   "cell_type": "code",
   "execution_count": 33,
   "metadata": {},
   "outputs": [
    {
     "name": "stdout",
     "output_type": "stream",
     "text": [
      "(16308, 171)\n"
     ]
    }
   ],
   "source": [
    "print(df.shape)"
   ]
  },
  {
   "cell_type": "markdown",
   "metadata": {},
   "source": [
    "## Get the daily profile"
   ]
  },
  {
   "cell_type": "code",
   "execution_count": 34,
   "metadata": {
    "collapsed": true
   },
   "outputs": [],
   "source": [
    "df['hour'] = df.index.hour"
   ]
  },
  {
   "cell_type": "code",
   "execution_count": 35,
   "metadata": {},
   "outputs": [
    {
     "data": {
      "text/html": [
       "<div>\n",
       "<style>\n",
       "    .dataframe thead tr:only-child th {\n",
       "        text-align: right;\n",
       "    }\n",
       "\n",
       "    .dataframe thead th {\n",
       "        text-align: left;\n",
       "    }\n",
       "\n",
       "    .dataframe tbody tr th {\n",
       "        vertical-align: top;\n",
       "    }\n",
       "</style>\n",
       "<table border=\"1\" class=\"dataframe\">\n",
       "  <thead>\n",
       "    <tr style=\"text-align: right;\">\n",
       "      <th>station</th>\n",
       "      <th>1</th>\n",
       "      <th>2</th>\n",
       "      <th>3</th>\n",
       "      <th>4</th>\n",
       "      <th>5</th>\n",
       "      <th>6</th>\n",
       "      <th>7</th>\n",
       "      <th>8</th>\n",
       "      <th>9</th>\n",
       "      <th>10</th>\n",
       "      <th>...</th>\n",
       "      <th>166</th>\n",
       "      <th>167</th>\n",
       "      <th>168</th>\n",
       "      <th>169</th>\n",
       "      <th>170</th>\n",
       "      <th>171</th>\n",
       "      <th>172</th>\n",
       "      <th>173</th>\n",
       "      <th>174</th>\n",
       "      <th>hour</th>\n",
       "    </tr>\n",
       "    <tr>\n",
       "      <th>ts</th>\n",
       "      <th></th>\n",
       "      <th></th>\n",
       "      <th></th>\n",
       "      <th></th>\n",
       "      <th></th>\n",
       "      <th></th>\n",
       "      <th></th>\n",
       "      <th></th>\n",
       "      <th></th>\n",
       "      <th></th>\n",
       "      <th></th>\n",
       "      <th></th>\n",
       "      <th></th>\n",
       "      <th></th>\n",
       "      <th></th>\n",
       "      <th></th>\n",
       "      <th></th>\n",
       "      <th></th>\n",
       "      <th></th>\n",
       "      <th></th>\n",
       "      <th></th>\n",
       "    </tr>\n",
       "  </thead>\n",
       "  <tbody>\n",
       "    <tr>\n",
       "      <th>2017-07-10 00:00:00</th>\n",
       "      <td>2.0</td>\n",
       "      <td>4.0</td>\n",
       "      <td>1.0</td>\n",
       "      <td>6.0</td>\n",
       "      <td>0.0</td>\n",
       "      <td>1.0</td>\n",
       "      <td>9.0</td>\n",
       "      <td>3.0</td>\n",
       "      <td>17.0</td>\n",
       "      <td>1.0</td>\n",
       "      <td>...</td>\n",
       "      <td>15.0</td>\n",
       "      <td>14.0</td>\n",
       "      <td>12.0</td>\n",
       "      <td>10.0</td>\n",
       "      <td>16.0</td>\n",
       "      <td>8.0</td>\n",
       "      <td>20.0</td>\n",
       "      <td>10.0</td>\n",
       "      <td>0.0</td>\n",
       "      <td>0</td>\n",
       "    </tr>\n",
       "    <tr>\n",
       "      <th>2017-07-10 00:05:00</th>\n",
       "      <td>2.0</td>\n",
       "      <td>4.0</td>\n",
       "      <td>1.0</td>\n",
       "      <td>6.0</td>\n",
       "      <td>0.0</td>\n",
       "      <td>1.0</td>\n",
       "      <td>9.0</td>\n",
       "      <td>3.0</td>\n",
       "      <td>17.0</td>\n",
       "      <td>1.0</td>\n",
       "      <td>...</td>\n",
       "      <td>15.0</td>\n",
       "      <td>14.0</td>\n",
       "      <td>12.0</td>\n",
       "      <td>10.0</td>\n",
       "      <td>16.0</td>\n",
       "      <td>8.0</td>\n",
       "      <td>20.0</td>\n",
       "      <td>10.0</td>\n",
       "      <td>0.0</td>\n",
       "      <td>0</td>\n",
       "    </tr>\n",
       "    <tr>\n",
       "      <th>2017-07-10 00:10:00</th>\n",
       "      <td>2.0</td>\n",
       "      <td>4.0</td>\n",
       "      <td>1.0</td>\n",
       "      <td>7.0</td>\n",
       "      <td>0.0</td>\n",
       "      <td>1.0</td>\n",
       "      <td>9.0</td>\n",
       "      <td>4.0</td>\n",
       "      <td>17.0</td>\n",
       "      <td>1.0</td>\n",
       "      <td>...</td>\n",
       "      <td>15.0</td>\n",
       "      <td>14.0</td>\n",
       "      <td>12.0</td>\n",
       "      <td>10.0</td>\n",
       "      <td>16.0</td>\n",
       "      <td>8.0</td>\n",
       "      <td>20.0</td>\n",
       "      <td>10.0</td>\n",
       "      <td>0.0</td>\n",
       "      <td>0</td>\n",
       "    </tr>\n",
       "    <tr>\n",
       "      <th>2017-07-10 00:15:00</th>\n",
       "      <td>2.0</td>\n",
       "      <td>4.0</td>\n",
       "      <td>1.0</td>\n",
       "      <td>7.0</td>\n",
       "      <td>0.0</td>\n",
       "      <td>1.0</td>\n",
       "      <td>9.0</td>\n",
       "      <td>4.0</td>\n",
       "      <td>18.0</td>\n",
       "      <td>1.0</td>\n",
       "      <td>...</td>\n",
       "      <td>15.0</td>\n",
       "      <td>14.0</td>\n",
       "      <td>12.0</td>\n",
       "      <td>10.0</td>\n",
       "      <td>16.0</td>\n",
       "      <td>8.0</td>\n",
       "      <td>20.0</td>\n",
       "      <td>10.0</td>\n",
       "      <td>0.0</td>\n",
       "      <td>0</td>\n",
       "    </tr>\n",
       "    <tr>\n",
       "      <th>2017-07-10 00:20:00</th>\n",
       "      <td>2.0</td>\n",
       "      <td>4.0</td>\n",
       "      <td>1.0</td>\n",
       "      <td>6.0</td>\n",
       "      <td>0.0</td>\n",
       "      <td>1.0</td>\n",
       "      <td>9.0</td>\n",
       "      <td>4.0</td>\n",
       "      <td>18.0</td>\n",
       "      <td>1.0</td>\n",
       "      <td>...</td>\n",
       "      <td>15.0</td>\n",
       "      <td>14.0</td>\n",
       "      <td>12.0</td>\n",
       "      <td>10.0</td>\n",
       "      <td>16.0</td>\n",
       "      <td>8.0</td>\n",
       "      <td>20.0</td>\n",
       "      <td>10.0</td>\n",
       "      <td>0.0</td>\n",
       "      <td>0</td>\n",
       "    </tr>\n",
       "  </tbody>\n",
       "</table>\n",
       "<p>5 rows × 172 columns</p>\n",
       "</div>"
      ],
      "text/plain": [
       "station                1    2    3    4    5    6    7    8     9   10  ...   \\\n",
       "ts                                                                      ...    \n",
       "2017-07-10 00:00:00  2.0  4.0  1.0  6.0  0.0  1.0  9.0  3.0  17.0  1.0  ...    \n",
       "2017-07-10 00:05:00  2.0  4.0  1.0  6.0  0.0  1.0  9.0  3.0  17.0  1.0  ...    \n",
       "2017-07-10 00:10:00  2.0  4.0  1.0  7.0  0.0  1.0  9.0  4.0  17.0  1.0  ...    \n",
       "2017-07-10 00:15:00  2.0  4.0  1.0  7.0  0.0  1.0  9.0  4.0  18.0  1.0  ...    \n",
       "2017-07-10 00:20:00  2.0  4.0  1.0  6.0  0.0  1.0  9.0  4.0  18.0  1.0  ...    \n",
       "\n",
       "station               166   167   168   169   170  171   172   173  174  hour  \n",
       "ts                                                                             \n",
       "2017-07-10 00:00:00  15.0  14.0  12.0  10.0  16.0  8.0  20.0  10.0  0.0     0  \n",
       "2017-07-10 00:05:00  15.0  14.0  12.0  10.0  16.0  8.0  20.0  10.0  0.0     0  \n",
       "2017-07-10 00:10:00  15.0  14.0  12.0  10.0  16.0  8.0  20.0  10.0  0.0     0  \n",
       "2017-07-10 00:15:00  15.0  14.0  12.0  10.0  16.0  8.0  20.0  10.0  0.0     0  \n",
       "2017-07-10 00:20:00  15.0  14.0  12.0  10.0  16.0  8.0  20.0  10.0  0.0     0  \n",
       "\n",
       "[5 rows x 172 columns]"
      ]
     },
     "execution_count": 35,
     "metadata": {},
     "output_type": "execute_result"
    }
   ],
   "source": [
    "df.head()"
   ]
  },
  {
   "cell_type": "code",
   "execution_count": 36,
   "metadata": {
    "collapsed": true
   },
   "outputs": [],
   "source": [
    "profile = df.groupby(\"hour\").mean()"
   ]
  },
  {
   "cell_type": "code",
   "execution_count": 37,
   "metadata": {},
   "outputs": [
    {
     "data": {
      "text/html": [
       "<div>\n",
       "<style>\n",
       "    .dataframe thead tr:only-child th {\n",
       "        text-align: right;\n",
       "    }\n",
       "\n",
       "    .dataframe thead th {\n",
       "        text-align: left;\n",
       "    }\n",
       "\n",
       "    .dataframe tbody tr th {\n",
       "        vertical-align: top;\n",
       "    }\n",
       "</style>\n",
       "<table border=\"1\" class=\"dataframe\">\n",
       "  <thead>\n",
       "    <tr style=\"text-align: right;\">\n",
       "      <th>station</th>\n",
       "      <th>1</th>\n",
       "      <th>2</th>\n",
       "      <th>3</th>\n",
       "      <th>4</th>\n",
       "      <th>5</th>\n",
       "      <th>6</th>\n",
       "      <th>7</th>\n",
       "      <th>8</th>\n",
       "      <th>9</th>\n",
       "      <th>10</th>\n",
       "      <th>...</th>\n",
       "      <th>165</th>\n",
       "      <th>166</th>\n",
       "      <th>167</th>\n",
       "      <th>168</th>\n",
       "      <th>169</th>\n",
       "      <th>170</th>\n",
       "      <th>171</th>\n",
       "      <th>172</th>\n",
       "      <th>173</th>\n",
       "      <th>174</th>\n",
       "    </tr>\n",
       "    <tr>\n",
       "      <th>hour</th>\n",
       "      <th></th>\n",
       "      <th></th>\n",
       "      <th></th>\n",
       "      <th></th>\n",
       "      <th></th>\n",
       "      <th></th>\n",
       "      <th></th>\n",
       "      <th></th>\n",
       "      <th></th>\n",
       "      <th></th>\n",
       "      <th></th>\n",
       "      <th></th>\n",
       "      <th></th>\n",
       "      <th></th>\n",
       "      <th></th>\n",
       "      <th></th>\n",
       "      <th></th>\n",
       "      <th></th>\n",
       "      <th></th>\n",
       "      <th></th>\n",
       "      <th></th>\n",
       "    </tr>\n",
       "  </thead>\n",
       "  <tbody>\n",
       "    <tr>\n",
       "      <th>0</th>\n",
       "      <td>3.266082</td>\n",
       "      <td>5.775585</td>\n",
       "      <td>6.897661</td>\n",
       "      <td>6.171053</td>\n",
       "      <td>2.808480</td>\n",
       "      <td>1.837719</td>\n",
       "      <td>5.251462</td>\n",
       "      <td>8.002924</td>\n",
       "      <td>10.951754</td>\n",
       "      <td>6.609649</td>\n",
       "      <td>...</td>\n",
       "      <td>8.904971</td>\n",
       "      <td>10.245614</td>\n",
       "      <td>10.975146</td>\n",
       "      <td>9.798246</td>\n",
       "      <td>6.932749</td>\n",
       "      <td>7.517544</td>\n",
       "      <td>12.219298</td>\n",
       "      <td>4.355263</td>\n",
       "      <td>12.076023</td>\n",
       "      <td>1.084795</td>\n",
       "    </tr>\n",
       "    <tr>\n",
       "      <th>1</th>\n",
       "      <td>2.932749</td>\n",
       "      <td>6.281433</td>\n",
       "      <td>6.978801</td>\n",
       "      <td>5.461988</td>\n",
       "      <td>1.983918</td>\n",
       "      <td>1.653509</td>\n",
       "      <td>4.508772</td>\n",
       "      <td>9.185673</td>\n",
       "      <td>12.275585</td>\n",
       "      <td>7.353801</td>\n",
       "      <td>...</td>\n",
       "      <td>9.017544</td>\n",
       "      <td>10.320906</td>\n",
       "      <td>11.001462</td>\n",
       "      <td>9.900585</td>\n",
       "      <td>7.119883</td>\n",
       "      <td>7.799708</td>\n",
       "      <td>13.330409</td>\n",
       "      <td>4.561404</td>\n",
       "      <td>12.076023</td>\n",
       "      <td>1.080409</td>\n",
       "    </tr>\n",
       "    <tr>\n",
       "      <th>2</th>\n",
       "      <td>2.620614</td>\n",
       "      <td>6.640351</td>\n",
       "      <td>7.149123</td>\n",
       "      <td>4.676901</td>\n",
       "      <td>1.755117</td>\n",
       "      <td>1.627193</td>\n",
       "      <td>3.379386</td>\n",
       "      <td>9.966374</td>\n",
       "      <td>13.274854</td>\n",
       "      <td>7.755848</td>\n",
       "      <td>...</td>\n",
       "      <td>9.046784</td>\n",
       "      <td>10.340643</td>\n",
       "      <td>11.054094</td>\n",
       "      <td>9.978070</td>\n",
       "      <td>7.359649</td>\n",
       "      <td>8.231725</td>\n",
       "      <td>13.790936</td>\n",
       "      <td>4.934211</td>\n",
       "      <td>12.428363</td>\n",
       "      <td>1.153509</td>\n",
       "    </tr>\n",
       "    <tr>\n",
       "      <th>3</th>\n",
       "      <td>2.754386</td>\n",
       "      <td>6.750000</td>\n",
       "      <td>7.087719</td>\n",
       "      <td>4.429825</td>\n",
       "      <td>1.866959</td>\n",
       "      <td>1.852339</td>\n",
       "      <td>3.064327</td>\n",
       "      <td>9.919591</td>\n",
       "      <td>13.483918</td>\n",
       "      <td>8.046784</td>\n",
       "      <td>...</td>\n",
       "      <td>9.204678</td>\n",
       "      <td>10.583333</td>\n",
       "      <td>11.115497</td>\n",
       "      <td>9.991228</td>\n",
       "      <td>7.557018</td>\n",
       "      <td>8.410819</td>\n",
       "      <td>13.845029</td>\n",
       "      <td>4.921053</td>\n",
       "      <td>12.571637</td>\n",
       "      <td>1.209064</td>\n",
       "    </tr>\n",
       "    <tr>\n",
       "      <th>4</th>\n",
       "      <td>3.517544</td>\n",
       "      <td>6.780702</td>\n",
       "      <td>7.456140</td>\n",
       "      <td>4.483918</td>\n",
       "      <td>2.038743</td>\n",
       "      <td>2.352339</td>\n",
       "      <td>2.844298</td>\n",
       "      <td>10.122076</td>\n",
       "      <td>13.527778</td>\n",
       "      <td>8.469298</td>\n",
       "      <td>...</td>\n",
       "      <td>9.298977</td>\n",
       "      <td>11.719298</td>\n",
       "      <td>11.269006</td>\n",
       "      <td>10.020468</td>\n",
       "      <td>7.625731</td>\n",
       "      <td>8.523392</td>\n",
       "      <td>13.746345</td>\n",
       "      <td>4.761696</td>\n",
       "      <td>12.756579</td>\n",
       "      <td>1.270468</td>\n",
       "    </tr>\n",
       "  </tbody>\n",
       "</table>\n",
       "<p>5 rows × 171 columns</p>\n",
       "</div>"
      ],
      "text/plain": [
       "station       1         2         3         4         5         6         7    \\\n",
       "hour                                                                            \n",
       "0        3.266082  5.775585  6.897661  6.171053  2.808480  1.837719  5.251462   \n",
       "1        2.932749  6.281433  6.978801  5.461988  1.983918  1.653509  4.508772   \n",
       "2        2.620614  6.640351  7.149123  4.676901  1.755117  1.627193  3.379386   \n",
       "3        2.754386  6.750000  7.087719  4.429825  1.866959  1.852339  3.064327   \n",
       "4        3.517544  6.780702  7.456140  4.483918  2.038743  2.352339  2.844298   \n",
       "\n",
       "station        8          9         10     ...          165        166  \\\n",
       "hour                                       ...                           \n",
       "0         8.002924  10.951754  6.609649    ...     8.904971  10.245614   \n",
       "1         9.185673  12.275585  7.353801    ...     9.017544  10.320906   \n",
       "2         9.966374  13.274854  7.755848    ...     9.046784  10.340643   \n",
       "3         9.919591  13.483918  8.046784    ...     9.204678  10.583333   \n",
       "4        10.122076  13.527778  8.469298    ...     9.298977  11.719298   \n",
       "\n",
       "station        167        168       169       170        171       172  \\\n",
       "hour                                                                     \n",
       "0        10.975146   9.798246  6.932749  7.517544  12.219298  4.355263   \n",
       "1        11.001462   9.900585  7.119883  7.799708  13.330409  4.561404   \n",
       "2        11.054094   9.978070  7.359649  8.231725  13.790936  4.934211   \n",
       "3        11.115497   9.991228  7.557018  8.410819  13.845029  4.921053   \n",
       "4        11.269006  10.020468  7.625731  8.523392  13.746345  4.761696   \n",
       "\n",
       "station        173       174  \n",
       "hour                          \n",
       "0        12.076023  1.084795  \n",
       "1        12.076023  1.080409  \n",
       "2        12.428363  1.153509  \n",
       "3        12.571637  1.209064  \n",
       "4        12.756579  1.270468  \n",
       "\n",
       "[5 rows x 171 columns]"
      ]
     },
     "execution_count": 37,
     "metadata": {},
     "output_type": "execute_result"
    }
   ],
   "source": [
    "profile.head()"
   ]
  },
  {
   "cell_type": "markdown",
   "metadata": {},
   "source": [
    "## Clustering"
   ]
  },
  {
   "cell_type": "markdown",
   "metadata": {},
   "source": [
    "Use the KMeans algorithm on the daily profile."
   ]
  },
  {
   "cell_type": "code",
   "execution_count": 38,
   "metadata": {
    "collapsed": true
   },
   "outputs": [],
   "source": [
    "n_clusters = 4"
   ]
  },
  {
   "cell_type": "code",
   "execution_count": 39,
   "metadata": {
    "collapsed": true
   },
   "outputs": [],
   "source": [
    "# Normalization\n",
    "df_norm = profile / profile.max()"
   ]
  },
  {
   "cell_type": "code",
   "execution_count": 40,
   "metadata": {
    "collapsed": true
   },
   "outputs": [],
   "source": [
    "kmeans = KMeans(n_clusters=n_clusters, random_state=42).fit(df_norm.T)"
   ]
  },
  {
   "cell_type": "code",
   "execution_count": 41,
   "metadata": {
    "collapsed": true
   },
   "outputs": [],
   "source": [
    "labels = pd.Series(kmeans.labels_)"
   ]
  },
  {
   "cell_type": "markdown",
   "metadata": {},
   "source": [
    "Number of stations for each cluster (i.e. usage pattern)."
   ]
  },
  {
   "cell_type": "code",
   "execution_count": 43,
   "metadata": {},
   "outputs": [
    {
     "data": {
      "text/plain": [
       "0    56\n",
       "1    76\n",
       "2    27\n",
       "3    12\n",
       "dtype: int64"
      ]
     },
     "execution_count": 43,
     "metadata": {},
     "output_type": "execute_result"
    }
   ],
   "source": [
    "labels.groupby(labels).count()"
   ]
  },
  {
   "cell_type": "markdown",
   "metadata": {},
   "source": [
    "Choose some colors."
   ]
  },
  {
   "cell_type": "code",
   "execution_count": 44,
   "metadata": {
    "collapsed": true
   },
   "outputs": [],
   "source": [
    "colors = sns.color_palette('tab10', n_clusters)"
   ]
  },
  {
   "cell_type": "code",
   "execution_count": 45,
   "metadata": {},
   "outputs": [
    {
     "data": {
      "image/png": "[encoded data removed]",
      "text/plain": [
       "<matplotlib.figure.Figure at 0x7f753c6f8ba8>"
      ]
     },
     "metadata": {},
     "output_type": "display_data"
    }
   ],
   "source": [
    "sns.palplot(colors)"
   ]
  },
  {
   "cell_type": "markdown",
   "metadata": {},
   "source": [
    "Plot the daily profile of available bikes (%) for each cluster."
   ]
  },
  {
   "cell_type": "code",
   "execution_count": 46,
   "metadata": {},
   "outputs": [
    {
     "data": {
      "image/png": "[encoded data removed]",
      "text/plain": [
       "<matplotlib.figure.Figure at 0x7f753cdde710>"
      ]
     },
     "metadata": {},
     "output_type": "display_data"
    }
   ],
   "source": [
    "with sns.axes_style(\"whitegrid\", {'xtick.major.size': 8.0}):\n",
    "    fig, ax = plt.subplots(figsize=(10,6))\n",
    "\n",
    "for k, label, color in zip(kmeans.cluster_centers_, range(n_clusters), colors):\n",
    "    plt.plot(100*k, color=color, label=label)\n",
    "    \n",
    "plt.legend()\n",
    "plt.xlabel('Hour')\n",
    "plt.ylabel(\"available bikes%\")\n",
    "sns.despine()"
   ]
  },
  {
   "cell_type": "markdown",
   "metadata": {},
   "source": [
    "## Map"
   ]
  },
  {
   "cell_type": "markdown",
   "metadata": {},
   "source": [
    "Get the station lat/lon coordinates."
   ]
  },
  {
   "cell_type": "code",
   "execution_count": 47,
   "metadata": {
    "collapsed": true
   },
   "outputs": [],
   "source": [
    "locations = pd.read_csv(\"data/bordeaux-stations.csv\")"
   ]
  },
  {
   "cell_type": "code",
   "execution_count": 48,
   "metadata": {},
   "outputs": [
    {
     "data": {
      "text/html": [
       "<div>\n",
       "<style>\n",
       "    .dataframe thead tr:only-child th {\n",
       "        text-align: right;\n",
       "    }\n",
       "\n",
       "    .dataframe thead th {\n",
       "        text-align: left;\n",
       "    }\n",
       "\n",
       "    .dataframe tbody tr th {\n",
       "        vertical-align: top;\n",
       "    }\n",
       "</style>\n",
       "<table border=\"1\" class=\"dataframe\">\n",
       "  <thead>\n",
       "    <tr style=\"text-align: right;\">\n",
       "      <th></th>\n",
       "      <th>ident</th>\n",
       "      <th>nom</th>\n",
       "      <th>lat</th>\n",
       "      <th>lon</th>\n",
       "    </tr>\n",
       "  </thead>\n",
       "  <tbody>\n",
       "    <tr>\n",
       "      <th>0</th>\n",
       "      <td>138</td>\n",
       "      <td>Lycée Brémontier</td>\n",
       "      <td>44.824055</td>\n",
       "      <td>-0.570243</td>\n",
       "    </tr>\n",
       "    <tr>\n",
       "      <th>1</th>\n",
       "      <td>135</td>\n",
       "      <td>Eglise Ste Croix</td>\n",
       "      <td>44.831312</td>\n",
       "      <td>-0.561393</td>\n",
       "    </tr>\n",
       "    <tr>\n",
       "      <th>2</th>\n",
       "      <td>79</td>\n",
       "      <td>Buttinière</td>\n",
       "      <td>44.864276</td>\n",
       "      <td>-0.524200</td>\n",
       "    </tr>\n",
       "    <tr>\n",
       "      <th>3</th>\n",
       "      <td>3</td>\n",
       "      <td>Porte de Bourgogne</td>\n",
       "      <td>44.837789</td>\n",
       "      <td>-0.567156</td>\n",
       "    </tr>\n",
       "    <tr>\n",
       "      <th>4</th>\n",
       "      <td>8</td>\n",
       "      <td>Doyen Brus</td>\n",
       "      <td>44.800385</td>\n",
       "      <td>-0.609857</td>\n",
       "    </tr>\n",
       "  </tbody>\n",
       "</table>\n",
       "</div>"
      ],
      "text/plain": [
       "   ident                 nom        lat       lon\n",
       "0    138    Lycée Brémontier  44.824055 -0.570243\n",
       "1    135    Eglise Ste Croix  44.831312 -0.561393\n",
       "2     79          Buttinière  44.864276 -0.524200\n",
       "3      3  Porte de Bourgogne  44.837789 -0.567156\n",
       "4      8          Doyen Brus  44.800385 -0.609857"
      ]
     },
     "execution_count": 48,
     "metadata": {},
     "output_type": "execute_result"
    }
   ],
   "source": [
    "locations.head()"
   ]
  },
  {
   "cell_type": "code",
   "execution_count": 49,
   "metadata": {
    "collapsed": true
   },
   "outputs": [],
   "source": [
    "dflabel = pd.DataFrame({\"label\": kmeans.labels_}, index=profile.columns)"
   ]
  },
  {
   "cell_type": "code",
   "execution_count": 50,
   "metadata": {},
   "outputs": [
    {
     "data": {
      "text/html": [
       "<div>\n",
       "<style>\n",
       "    .dataframe thead tr:only-child th {\n",
       "        text-align: right;\n",
       "    }\n",
       "\n",
       "    .dataframe thead th {\n",
       "        text-align: left;\n",
       "    }\n",
       "\n",
       "    .dataframe tbody tr th {\n",
       "        vertical-align: top;\n",
       "    }\n",
       "</style>\n",
       "<table border=\"1\" class=\"dataframe\">\n",
       "  <thead>\n",
       "    <tr style=\"text-align: right;\">\n",
       "      <th></th>\n",
       "      <th>label</th>\n",
       "    </tr>\n",
       "    <tr>\n",
       "      <th>station</th>\n",
       "      <th></th>\n",
       "    </tr>\n",
       "  </thead>\n",
       "  <tbody>\n",
       "    <tr>\n",
       "      <th>1</th>\n",
       "      <td>2</td>\n",
       "    </tr>\n",
       "    <tr>\n",
       "      <th>2</th>\n",
       "      <td>2</td>\n",
       "    </tr>\n",
       "    <tr>\n",
       "      <th>3</th>\n",
       "      <td>1</td>\n",
       "    </tr>\n",
       "    <tr>\n",
       "      <th>4</th>\n",
       "      <td>2</td>\n",
       "    </tr>\n",
       "    <tr>\n",
       "      <th>5</th>\n",
       "      <td>2</td>\n",
       "    </tr>\n",
       "  </tbody>\n",
       "</table>\n",
       "</div>"
      ],
      "text/plain": [
       "         label\n",
       "station       \n",
       "1            2\n",
       "2            2\n",
       "3            1\n",
       "4            2\n",
       "5            2"
      ]
     },
     "execution_count": 50,
     "metadata": {},
     "output_type": "execute_result"
    }
   ],
   "source": [
    "dflabel.head()"
   ]
  },
  {
   "cell_type": "markdown",
   "metadata": {},
   "source": [
    "Get the label, i.e. the cluster id, for each station."
   ]
  },
  {
   "cell_type": "code",
   "execution_count": 51,
   "metadata": {
    "collapsed": true
   },
   "outputs": [],
   "source": [
    "locations = locations.merge(dflabel, right_index=True, left_on='ident')"
   ]
  },
  {
   "cell_type": "code",
   "execution_count": 52,
   "metadata": {},
   "outputs": [
    {
     "data": {
      "text/html": [
       "<div>\n",
       "<style>\n",
       "    .dataframe thead tr:only-child th {\n",
       "        text-align: right;\n",
       "    }\n",
       "\n",
       "    .dataframe thead th {\n",
       "        text-align: left;\n",
       "    }\n",
       "\n",
       "    .dataframe tbody tr th {\n",
       "        vertical-align: top;\n",
       "    }\n",
       "</style>\n",
       "<table border=\"1\" class=\"dataframe\">\n",
       "  <thead>\n",
       "    <tr style=\"text-align: right;\">\n",
       "      <th></th>\n",
       "      <th>ident</th>\n",
       "      <th>nom</th>\n",
       "      <th>lat</th>\n",
       "      <th>lon</th>\n",
       "      <th>label</th>\n",
       "    </tr>\n",
       "  </thead>\n",
       "  <tbody>\n",
       "    <tr>\n",
       "      <th>0</th>\n",
       "      <td>138</td>\n",
       "      <td>Lycée Brémontier</td>\n",
       "      <td>44.824055</td>\n",
       "      <td>-0.570243</td>\n",
       "      <td>0</td>\n",
       "    </tr>\n",
       "    <tr>\n",
       "      <th>1</th>\n",
       "      <td>135</td>\n",
       "      <td>Eglise Ste Croix</td>\n",
       "      <td>44.831312</td>\n",
       "      <td>-0.561393</td>\n",
       "      <td>0</td>\n",
       "    </tr>\n",
       "    <tr>\n",
       "      <th>2</th>\n",
       "      <td>79</td>\n",
       "      <td>Buttinière</td>\n",
       "      <td>44.864276</td>\n",
       "      <td>-0.524200</td>\n",
       "      <td>1</td>\n",
       "    </tr>\n",
       "    <tr>\n",
       "      <th>3</th>\n",
       "      <td>3</td>\n",
       "      <td>Porte de Bourgogne</td>\n",
       "      <td>44.837789</td>\n",
       "      <td>-0.567156</td>\n",
       "      <td>1</td>\n",
       "    </tr>\n",
       "    <tr>\n",
       "      <th>4</th>\n",
       "      <td>8</td>\n",
       "      <td>Doyen Brus</td>\n",
       "      <td>44.800385</td>\n",
       "      <td>-0.609857</td>\n",
       "      <td>2</td>\n",
       "    </tr>\n",
       "  </tbody>\n",
       "</table>\n",
       "</div>"
      ],
      "text/plain": [
       "  ident                 nom        lat       lon  label\n",
       "0   138    Lycée Brémontier  44.824055 -0.570243      0\n",
       "1   135    Eglise Ste Croix  44.831312 -0.561393      0\n",
       "2    79          Buttinière  44.864276 -0.524200      1\n",
       "3     3  Porte de Bourgogne  44.837789 -0.567156      1\n",
       "4     8          Doyen Brus  44.800385 -0.609857      2"
      ]
     },
     "execution_count": 52,
     "metadata": {},
     "output_type": "execute_result"
    }
   ],
   "source": [
    "locations.head()"
   ]
  },
  {
   "cell_type": "code",
   "execution_count": 53,
   "metadata": {
    "collapsed": true
   },
   "outputs": [],
   "source": [
    "locations[\"nom\"] = locations['nom'].str.replace(\"'\", \"&apos;\")"
   ]
  },
  {
   "cell_type": "code",
   "execution_count": 57,
   "metadata": {
    "collapsed": true
   },
   "outputs": [],
   "source": [
    "import folium"
   ]
  },
  {
   "cell_type": "code",
   "execution_count": 58,
   "metadata": {
    "collapsed": true
   },
   "outputs": [],
   "source": [
    "# Bordeaux (France) position.\n",
    "position = [44.836151, -0.580816]"
   ]
  },
  {
   "cell_type": "code",
   "execution_count": 59,
   "metadata": {},
   "outputs": [],
   "source": [
    "mp = folium.Map(location=position, zoom_start=13, tiles='cartodbpositron')"
   ]
  },
  {
   "cell_type": "code",
   "execution_count": 60,
   "metadata": {
    "collapsed": true
   },
   "outputs": [],
   "source": [
    "hex_colors = colors.as_hex()"
   ]
  },
  {
   "cell_type": "code",
   "execution_count": 61,
   "metadata": {
    "collapsed": true
   },
   "outputs": [],
   "source": [
    "for _,row in locations.iterrows():\n",
    "    folium.CircleMarker(\n",
    "        location=[row['lat'], row['lon']],\n",
    "        radius=5,\n",
    "        popup=row['nom'],\n",
    "        color=hex_colors[row['label']],\n",
    "        fill=True,\n",
    "        fill_opacity=0.7,\n",
    "        fill_color=hex_colors[row['label']]\n",
    "    ).add_to(mp)"
   ]
  },
  {
   "cell_type": "code",
   "execution_count": 62,
   "metadata": {
    "collapsed": true
   },
   "outputs": [],
   "source": [
    "mp.save(\"bordeaux-map-n_clusters-{}.html\".format(n_clusters))"
   ]
  },
  {
   "cell_type": "code",
   "execution_count": 63,
   "metadata": {},
   "outputs": [
    {
     "data": {
      "text/html": [
       "<div style=\"width:100%;\"><div style=\"position:relative;width:100%;height:0;padding-bottom:60%;\"><iframe src=\"data:text/html;charset=utf-8;base64,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\" style=\"position:absolute;width:100%;height:100%;left:0;top:0;border:none !important;\" allowfullscreen webkitallowfullscreen mozallowfullscreen></iframe></div></div>"
      ],
      "text/plain": [
       "<folium.folium.Map at 0x7f75382039b0>"
      ]
     },
     "execution_count": 63,
     "metadata": {},
     "output_type": "execute_result"
    }
   ],
   "source": [
    "mp"
   ]
  },
  {
   "cell_type": "code",
   "execution_count": null,
   "metadata": {
    "collapsed": true
   },
   "outputs": [],
   "source": []
  }
 ],
 "metadata": {
  "kernelspec": {
   "display_name": "Python 3",
   "language": "python",
   "name": "python3"
  },
  "language_info": {
   "codemirror_mode": {
    "name": "ipython",
    "version": 3
   },
   "file_extension": ".py",
   "mimetype": "text/x-python",
   "name": "python",
   "nbconvert_exporter": "python",
   "pygments_lexer": "ipython3",
   "version": "3.5.4"
  }
 },
 "nbformat": 4,
 "nbformat_minor": 2
}
